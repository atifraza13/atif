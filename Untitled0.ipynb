{
  "nbformat": 4,
  "nbformat_minor": 0,
  "metadata": {
    "colab": {
      "provenance": []
    },
    "kernelspec": {
      "name": "python3",
      "display_name": "Python 3"
    },
    "language_info": {
      "name": "python"
    }
  },
  "cells": [
    {
      "cell_type": "code",
      "execution_count": null,
      "metadata": {
        "colab": {
          "base_uri": "https://localhost:8080/"
        },
        "id": "prE7ISzQp6EW",
        "outputId": "5559ff03-f21a-425b-b709-e085860f71c1"
      },
      "outputs": [
        {
          "output_type": "stream",
          "name": "stdout",
          "text": [
            "we are lerning python\n"
          ]
        }
      ],
      "source": [
        "print(\"we are lerning python\")\n"
      ]
    },
    {
      "cell_type": "code",
      "source": [
        "x=9\n",
        "print(x)"
      ],
      "metadata": {
        "colab": {
          "base_uri": "https://localhost:8080/"
        },
        "id": "1mDbFtbkrkeN",
        "outputId": "7c79379a-4581-4aa1-d3ca-09616af98a24"
      },
      "execution_count": null,
      "outputs": [
        {
          "output_type": "stream",
          "name": "stdout",
          "text": [
            "9\n"
          ]
        }
      ]
    },
    {
      "cell_type": "code",
      "source": [
        "import math\n",
        "from import math sqrt\n",
        "\n",
        "\n"
      ],
      "metadata": {
        "colab": {
          "base_uri": "https://localhost:8080/",
          "height": 106
        },
        "id": "4soItnHAsfn_",
        "outputId": "eb9f799c-2aef-49a2-c8ae-d6a30943977e"
      },
      "execution_count": null,
      "outputs": [
        {
          "output_type": "error",
          "ename": "SyntaxError",
          "evalue": "invalid syntax (<ipython-input-26-fcc692ee0594>, line 2)",
          "traceback": [
            "\u001b[0;36m  File \u001b[0;32m\"<ipython-input-26-fcc692ee0594>\"\u001b[0;36m, line \u001b[0;32m2\u001b[0m\n\u001b[0;31m    from import math sqrt\u001b[0m\n\u001b[0m         ^\u001b[0m\n\u001b[0;31mSyntaxError\u001b[0m\u001b[0;31m:\u001b[0m invalid syntax\n"
          ]
        }
      ]
    },
    {
      "cell_type": "code",
      "source": [
        "stock_"
      ],
      "metadata": {
        "id": "IGttrBp1CHtL"
      },
      "execution_count": null,
      "outputs": []
    }
  ]
}